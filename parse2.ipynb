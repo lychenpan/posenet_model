{
 "cells": [
  {
   "cell_type": "code",
   "execution_count": 1,
   "metadata": {},
   "outputs": [],
   "source": [
    "import tensorflow as tf\n",
    "from PIL import Image\n",
    "import numpy as np\n",
    "import time\n",
    "from PIL import Image, ImageDraw"
   ]
  },
  {
   "cell_type": "code",
   "execution_count": 3,
   "metadata": {},
   "outputs": [
    {
     "name": "stdout",
     "output_type": "stream",
     "text": [
      "[{'name': 'sub_2', 'index': 97, 'shape': array([  1, 353, 257,   3], dtype=int32), 'shape_signature': array([  1, 353, 257,   3], dtype=int32), 'dtype': <class 'numpy.float32'>, 'quantization': (0.0, 0), 'quantization_parameters': {'scales': array([], dtype=float32), 'zero_points': array([], dtype=int32), 'quantized_dimension': 0}, 'sparsity_parameters': {}}]\n",
      "[{'name': 'float_heatmaps', 'index': 93, 'shape': array([ 1, 23, 17, 17], dtype=int32), 'shape_signature': array([ 1, 23, 17, 17], dtype=int32), 'dtype': <class 'numpy.float32'>, 'quantization': (0.0, 0), 'quantization_parameters': {'scales': array([], dtype=float32), 'zero_points': array([], dtype=int32), 'quantized_dimension': 0}, 'sparsity_parameters': {}}, {'name': 'float_short_offsets', 'index': 96, 'shape': array([ 1, 23, 17, 34], dtype=int32), 'shape_signature': array([ 1, 23, 17, 34], dtype=int32), 'dtype': <class 'numpy.float32'>, 'quantization': (0.0, 0), 'quantization_parameters': {'scales': array([], dtype=float32), 'zero_points': array([], dtype=int32), 'quantized_dimension': 0}, 'sparsity_parameters': {}}, {'name': 'float_mid_offsets', 'index': 94, 'shape': array([ 1, 23, 17, 64], dtype=int32), 'shape_signature': array([ 1, 23, 17, 64], dtype=int32), 'dtype': <class 'numpy.float32'>, 'quantization': (0.0, 0), 'quantization_parameters': {'scales': array([], dtype=float32), 'zero_points': array([], dtype=int32), 'quantized_dimension': 0}, 'sparsity_parameters': {}}, {'name': 'float_segments', 'index': 95, 'shape': array([ 1, 23, 17,  1], dtype=int32), 'shape_signature': array([ 1, 23, 17,  1], dtype=int32), 'dtype': <class 'numpy.float32'>, 'quantization': (0.0, 0), 'quantization_parameters': {'scales': array([], dtype=float32), 'zero_points': array([], dtype=int32), 'quantized_dimension': 0}, 'sparsity_parameters': {}}]\n"
     ]
    }
   ],
   "source": [
    "path = \"./multi_person_mobilenet_v1_075_float.tflite\"\n",
    "\n",
    "interpreter = tf.lite.Interpreter(path)\n",
    "\n",
    "input_details = interpreter.get_input_details()\n",
    "print(str(input_details))\n",
    "output_details = interpreter.get_output_details()\n",
    "print(str(output_details))"
   ]
  },
  {
   "cell_type": "code",
   "execution_count": 4,
   "metadata": {},
   "outputs": [
    {
     "name": "stdout",
     "output_type": "stream",
     "text": [
      "outputstrides: 16.0 16.0\n"
     ]
    }
   ],
   "source": [
    "# check outputstrids:  resolution = ((InputImageSize - 1) / OutputStride) + 1\n",
    "\n",
    "output_stridex = (input_details[0]['shape'][1]-1)/(output_details[0]['shape'][1]-1)\n",
    "output_stridey = (input_details[0]['shape'][2]-1)/(output_details[0]['shape'][2]-1)\n",
    "print(\"outputstrides:\", output_stridex, output_stridey)"
   ]
  },
  {
   "cell_type": "code",
   "execution_count": 5,
   "metadata": {},
   "outputs": [],
   "source": [
    "output_stride = 16.0\n",
    "num_keypoints = 17"
   ]
  },
  {
   "cell_type": "code",
   "execution_count": 6,
   "metadata": {},
   "outputs": [],
   "source": [
    "interpreter.allocate_tensors()"
   ]
  },
  {
   "cell_type": "code",
   "execution_count": 7,
   "metadata": {},
   "outputs": [],
   "source": [
    "imgpath = \"./test.png\""
   ]
  },
  {
   "cell_type": "code",
   "execution_count": 8,
   "metadata": {},
   "outputs": [],
   "source": [
    "timg = Image.open(imgpath)\n",
    "timg2 = timg.resize((257,353))\n",
    "tim = np.array(timg2)\n",
    "tim2 = np.expand_dims(tim, axis=0)"
   ]
  },
  {
   "cell_type": "code",
   "execution_count": 9,
   "metadata": {},
   "outputs": [
    {
     "name": "stdout",
     "output_type": "stream",
     "text": [
      "time: 0.1250917911529541\n"
     ]
    }
   ],
   "source": [
    "t1 = time.time()\n",
    "interpreter.set_tensor(input_details[0]['index'], tim2.astype(np.float32))\n",
    "interpreter.invoke()\n",
    "output_data = interpreter.get_tensor(output_details[0]['index'])\n",
    "t2 = time.time()\n",
    "print(\"time:\",t2-t1)"
   ]
  },
  {
   "cell_type": "code",
   "execution_count": 10,
   "metadata": {},
   "outputs": [],
   "source": [
    "heatmaps = np.squeeze(interpreter.get_tensor(output_details[0]['index']))\n",
    "offsets = np.squeeze(interpreter.get_tensor(output_details[1]['index']))"
   ]
  },
  {
   "cell_type": "code",
   "execution_count": 11,
   "metadata": {},
   "outputs": [
    {
     "data": {
      "text/plain": [
       "((23, 17, 17), (23, 17, 34))"
      ]
     },
     "execution_count": 11,
     "metadata": {},
     "output_type": "execute_result"
    }
   ],
   "source": [
    "heatmaps.shape, offsets.shape"
   ]
  },
  {
   "cell_type": "code",
   "execution_count": 12,
   "metadata": {},
   "outputs": [],
   "source": [
    "def get_keypoints(heatmaps, offsets, output_stride=16.0):\n",
    "#     scores = np.sigmoid(heatmaps)\n",
    "    scores = heatmaps\n",
    "    num_keypoints = scores.shape[2]\n",
    "    heatmap_positions = []\n",
    "    offset_vectors = []\n",
    "    confidences = []\n",
    "    for ki in range(0, num_keypoints ):\n",
    "        x,y = np.unravel_index(np.argmax(scores[:,:,ki]), scores[:,:,ki].shape)\n",
    "        confidences.append(scores[x,y,ki])\n",
    "        offset_vector = (offsets[x,y,ki], offsets[x,y,num_keypoints+ki])\n",
    "        heatmap_positions.append((x,y))\n",
    "        offset_vectors.append(offset_vector)\n",
    "    image_positions = np.add(np.array(heatmap_positions) * output_stride, offset_vectors)\n",
    "    keypoints = [(i, pos, confidences[i]) for i, pos in enumerate(image_positions)]\n",
    "    return keypoints"
   ]
  },
  {
   "cell_type": "code",
   "execution_count": 13,
   "metadata": {},
   "outputs": [
    {
     "data": {
      "text/plain": [
       "[(0, array([354.82839108, 131.42807031]), -6.001495),\n",
       " (1, array([354.04453778, 129.9302243 ]), -6.3138146),\n",
       " (2, array([344.65926647,  97.75874472]), -5.739022),\n",
       " (3, array([331.14421463, 133.42482138]), -5.1812615),\n",
       " (4, array([329.15613747, 146.1574614 ]), -5.296742),\n",
       " (5, array([348.49900341, 101.26444244]), -5.2257323),\n",
       " (6, array([363.31262207, 127.49399906]), -4.996435),\n",
       " (7, array([341.60149193, 146.26859498]), -6.755512),\n",
       " (8, array([341.91810608, 112.85078174]), -6.5640254),\n",
       " (9, array([325.68569613,  -4.64089632]), -6.5551777),\n",
       " (10, array([297.60314655,  -5.32451296]), -6.7565513),\n",
       " (11, array([ 0.46389624, 33.89114761]), -6.184896),\n",
       " (12, array([ 1.76255298, 33.14163578]), -6.372113),\n",
       " (13, array([321.72717941, 263.08027792]), -6.5485115),\n",
       " (14, array([321.22483706, 262.17429972]), -7.002337),\n",
       " (15, array([324.96882343,  -5.27495909]), -6.779457),\n",
       " (16, array([310.54090023,  -6.91213655]), -6.6521845)]"
      ]
     },
     "execution_count": 13,
     "metadata": {},
     "output_type": "execute_result"
    }
   ],
   "source": [
    "get_keypoints(heatmaps, offsets)"
   ]
  },
  {
   "cell_type": "code",
   "execution_count": 49,
   "metadata": {},
   "outputs": [
    {
     "name": "stdout",
     "output_type": "stream",
     "text": [
      "20 15 -6.1496406 (5.4461565, 10.782186)\n",
      "[325.4461565  250.78218555]\n",
      "22 14 -6.304964 (2.15078, -1.1065224)\n",
      "[354.15077996 222.89347756]\n",
      "20 15 -5.4582505 (1.8755507, 9.685787)\n",
      "[321.87555075 249.6857872 ]\n",
      "19 0 -6.501217 (1.3178866, -2.7529018)\n",
      "[305.31788659  -2.75290179]\n",
      "20 15 -5.8539906 (5.0117784, 6.784121)\n",
      "[325.01177835 246.78412104]\n",
      "22 6 -5.4797087 (7.13035, 3.732857)\n",
      "[359.13035011  99.73285699]\n",
      "22 4 -5.6351075 (8.20594, -1.8878671)\n",
      "[360.20594025  62.11213291]\n",
      "2 12 -6.895049 (5.8851876, 18.928425)\n",
      "[ 37.88518763 210.92842484]\n",
      "20 15 -6.560242 (11.956549, 2.4038842)\n",
      "[331.95654869 242.40388417]\n",
      "19 0 -6.995436 (3.2525666, -7.669128)\n",
      "[307.25256658  -7.66912794]\n",
      "18 0 -6.7330246 (6.677606, -7.450439)\n",
      "[294.67760611  -7.45043898]\n",
      "22 2 -6.204076 (2.7541113, 1.2149421)\n",
      "[354.75411129  33.2149421 ]\n",
      "22 3 -5.9366326 (6.1759667, 1.675064)\n",
      "[358.17596674  49.67506397]\n",
      "20 16 -7.461457 (4.255873, 4.5832915)\n",
      "[324.2558732  260.58329153]\n",
      "22 16 -7.1741033 (1.3165295, 2.5614555)\n",
      "[353.31652951 258.56145549]\n",
      "22 6 -7.398567 (0.59026635, -3.4665737)\n",
      "[352.59026635  92.53342628]\n",
      "18 0 -7.115737 (7.5360017, -7.395254)\n",
      "[295.53600168  -7.39525414]\n"
     ]
    }
   ],
   "source": [
    "for i in range(num_keypoints):\n",
    "    x,y = np.unravel_index(np.argmax(heatmaps[:,:,i]), heatmaps[:,:,i].shape) \n",
    "    conf = heatmaps[x,y,i]\n",
    "    offset_vector = (offsets[x,y,i], offsets[x,y,num_keypoints+i])\n",
    "    print(x,y,conf, offset_vector)\n",
    "\n",
    "    pos_i = np.add(np.array([x,y]) * output_stride, offset_vector)\n",
    "    print(pos_i)"
   ]
  },
  {
   "cell_type": "code",
   "execution_count": null,
   "metadata": {},
   "outputs": [],
   "source": []
  },
  {
   "cell_type": "code",
   "execution_count": null,
   "metadata": {},
   "outputs": [],
   "source": [
    "resimg = visual(\"/home/cp/Desktop/test1.png\", kps)"
   ]
  },
  {
   "cell_type": "code",
   "execution_count": null,
   "metadata": {},
   "outputs": [],
   "source": [
    "resimg"
   ]
  },
  {
   "cell_type": "code",
   "execution_count": null,
   "metadata": {},
   "outputs": [],
   "source": [
    "def extract_keypoints(resdata):\n",
    "    if len(resdata.shape)==4:\n",
    "        resdata = resdata[0]\n",
    "    kps = []\n",
    "    for i in range(14):\n",
    "        tmpdata = resdata[:,:,i]\n",
    "        pos = np.unravel_index(np.argmax(tmpdata),tmpdata.shape)\n",
    "        kps.append(pos)\n",
    "    return kps"
   ]
  },
  {
   "cell_type": "code",
   "execution_count": null,
   "metadata": {},
   "outputs": [],
   "source": [
    "def visual(imgpath, kps):\n",
    "    timg = Image.open(imgpath)\n",
    "    w,h = timg.size\n",
    "    draw = ImageDraw.Draw(timg)\n",
    "    for row, col in kps:\n",
    "        row = int(row/17.0*w)\n",
    "        col = int(col/23.0*h)\n",
    "        draw.arc((col-2,row-2, col+2, row+2), 0,360, fill='red', width=1)\n",
    "    return timg"
   ]
  },
  {
   "cell_type": "code",
   "execution_count": null,
   "metadata": {},
   "outputs": [],
   "source": []
  }
 ],
 "metadata": {
  "kernelspec": {
   "display_name": "Python 3",
   "language": "python",
   "name": "python3"
  },
  "language_info": {
   "codemirror_mode": {
    "name": "ipython",
    "version": 3
   },
   "file_extension": ".py",
   "mimetype": "text/x-python",
   "name": "python",
   "nbconvert_exporter": "python",
   "pygments_lexer": "ipython3",
   "version": "3.8.3"
  }
 },
 "nbformat": 4,
 "nbformat_minor": 4
}
